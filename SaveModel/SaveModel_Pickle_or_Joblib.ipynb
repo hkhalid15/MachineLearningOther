{
 "cells": [
  {
   "cell_type": "code",
   "execution_count": 1,
   "metadata": {},
   "outputs": [],
   "source": [
    "# dependencies\n",
    "import pandas as pd\n",
    "import numpy as np\n",
    "from sklearn import linear_model"
   ]
  },
  {
   "cell_type": "code",
   "execution_count": 2,
   "metadata": {},
   "outputs": [],
   "source": [
    "# load the file\n",
    "path= r'..\\redfin_analysis_mod.xlsx'\n",
    "df = pd.read_excel(path)"
   ]
  },
  {
   "cell_type": "code",
   "execution_count": 3,
   "metadata": {},
   "outputs": [
    {
     "data": {
      "text/html": [
       "<div>\n",
       "<style scoped>\n",
       "    .dataframe tbody tr th:only-of-type {\n",
       "        vertical-align: middle;\n",
       "    }\n",
       "\n",
       "    .dataframe tbody tr th {\n",
       "        vertical-align: top;\n",
       "    }\n",
       "\n",
       "    .dataframe thead th {\n",
       "        text-align: right;\n",
       "    }\n",
       "</style>\n",
       "<table border=\"1\" class=\"dataframe\">\n",
       "  <thead>\n",
       "    <tr style=\"text-align: right;\">\n",
       "      <th></th>\n",
       "      <th>PRICE</th>\n",
       "      <th>DOWN PAYMENT</th>\n",
       "      <th>CLOSING COSTS</th>\n",
       "      <th>DOWN PAYMENT PERCENTAGE</th>\n",
       "      <th>TOTAL MORTGAGE AMOUNT</th>\n",
       "      <th>MORTGAGE PAYMENT</th>\n",
       "      <th>TOTAL INTEREST COST</th>\n",
       "      <th>PMI</th>\n",
       "      <th>PROPERTY TAXES</th>\n",
       "      <th>HOA</th>\n",
       "      <th>...</th>\n",
       "      <th>ZIP CODE</th>\n",
       "      <th>LOCATION</th>\n",
       "      <th>LOT SIZE</th>\n",
       "      <th>YEAR BUILT</th>\n",
       "      <th>DAYS ON MARKET</th>\n",
       "      <th>STATUS</th>\n",
       "      <th>SOURCE</th>\n",
       "      <th>MLS</th>\n",
       "      <th>LATITUDE</th>\n",
       "      <th>LONGITUDE</th>\n",
       "    </tr>\n",
       "  </thead>\n",
       "  <tbody>\n",
       "    <tr>\n",
       "      <th>0</th>\n",
       "      <td>379900</td>\n",
       "      <td>100000</td>\n",
       "      <td>1330</td>\n",
       "      <td>26.323</td>\n",
       "      <td>281230</td>\n",
       "      <td>1343</td>\n",
       "      <td>202250</td>\n",
       "      <td>0</td>\n",
       "      <td>0.08</td>\n",
       "      <td>25</td>\n",
       "      <td>...</td>\n",
       "      <td>20832</td>\n",
       "      <td>OLNEY OAKS</td>\n",
       "      <td>1870.0</td>\n",
       "      <td>1986</td>\n",
       "      <td>1</td>\n",
       "      <td>Active</td>\n",
       "      <td>BRIGHT MLS</td>\n",
       "      <td>MDMC2021332</td>\n",
       "      <td>39.155617</td>\n",
       "      <td>-77.074260</td>\n",
       "    </tr>\n",
       "    <tr>\n",
       "      <th>1</th>\n",
       "      <td>439000</td>\n",
       "      <td>100000</td>\n",
       "      <td>1536</td>\n",
       "      <td>22.779</td>\n",
       "      <td>340536</td>\n",
       "      <td>1626</td>\n",
       "      <td>244824</td>\n",
       "      <td>0</td>\n",
       "      <td>0.09</td>\n",
       "      <td>80</td>\n",
       "      <td>...</td>\n",
       "      <td>20164</td>\n",
       "      <td>TRAILSIDE</td>\n",
       "      <td>2614.0</td>\n",
       "      <td>1998</td>\n",
       "      <td>1</td>\n",
       "      <td>Active</td>\n",
       "      <td>BRIGHT MLS</td>\n",
       "      <td>VALO2010804</td>\n",
       "      <td>38.998578</td>\n",
       "      <td>-77.425228</td>\n",
       "    </tr>\n",
       "  </tbody>\n",
       "</table>\n",
       "<p>2 rows × 34 columns</p>\n",
       "</div>"
      ],
      "text/plain": [
       "    PRICE  DOWN PAYMENT  CLOSING COSTS  DOWN PAYMENT PERCENTAGE  \\\n",
       "0  379900        100000           1330                   26.323   \n",
       "1  439000        100000           1536                   22.779   \n",
       "\n",
       "   TOTAL MORTGAGE AMOUNT  MORTGAGE PAYMENT  TOTAL INTEREST COST  PMI  \\\n",
       "0                 281230              1343               202250    0   \n",
       "1                 340536              1626               244824    0   \n",
       "\n",
       "   PROPERTY TAXES  HOA    ...      ZIP CODE    LOCATION  LOT SIZE  YEAR BUILT  \\\n",
       "0            0.08   25    ...         20832  OLNEY OAKS    1870.0        1986   \n",
       "1            0.09   80    ...         20164   TRAILSIDE    2614.0        1998   \n",
       "\n",
       "   DAYS ON MARKET  STATUS      SOURCE          MLS   LATITUDE  LONGITUDE  \n",
       "0               1  Active  BRIGHT MLS  MDMC2021332  39.155617 -77.074260  \n",
       "1               1  Active  BRIGHT MLS  VALO2010804  38.998578 -77.425228  \n",
       "\n",
       "[2 rows x 34 columns]"
      ]
     },
     "execution_count": 3,
     "metadata": {},
     "output_type": "execute_result"
    }
   ],
   "source": [
    "df.head(2)"
   ]
  },
  {
   "cell_type": "code",
   "execution_count": 4,
   "metadata": {},
   "outputs": [
    {
     "data": {
      "text/plain": [
       "LinearRegression(copy_X=True, fit_intercept=True, n_jobs=1, normalize=False)"
      ]
     },
     "execution_count": 4,
     "metadata": {},
     "output_type": "execute_result"
    }
   ],
   "source": [
    "model = linear_model.LinearRegression(fit_intercept=True)\n",
    "model.fit(df[['SQFT']],df.PRICE)"
   ]
  },
  {
   "cell_type": "code",
   "execution_count": 5,
   "metadata": {},
   "outputs": [
    {
     "name": "stdout",
     "output_type": "stream",
     "text": [
      "[30.06154923]\n",
      "357392.0645244353\n"
     ]
    }
   ],
   "source": [
    "print(model.coef_)\n",
    "print(model.intercept_)"
   ]
  },
  {
   "cell_type": "code",
   "execution_count": 6,
   "metadata": {},
   "outputs": [
    {
     "data": {
      "text/plain": [
       "array([507699.81066719])"
      ]
     },
     "execution_count": 6,
     "metadata": {},
     "output_type": "execute_result"
    }
   ],
   "source": [
    "model.predict([[5000]])"
   ]
  },
  {
   "cell_type": "markdown",
   "metadata": {},
   "source": [
    "# Save Using Python Pickle"
   ]
  },
  {
   "cell_type": "code",
   "execution_count": 7,
   "metadata": {},
   "outputs": [],
   "source": [
    "import pickle\n",
    "\n",
    "# used to serialize the python object into a file"
   ]
  },
  {
   "cell_type": "code",
   "execution_count": 8,
   "metadata": {},
   "outputs": [],
   "source": [
    "# write to the file using pickle\n",
    "with open('model_pickle','wb') as file:\n",
    "    pickle.dump(model,file)"
   ]
  },
  {
   "cell_type": "markdown",
   "metadata": {},
   "source": [
    "**Load Saved Model**"
   ]
  },
  {
   "cell_type": "code",
   "execution_count": 9,
   "metadata": {},
   "outputs": [],
   "source": [
    "# open the file \n",
    "with open('model_pickle','rb') as file:\n",
    "    mp = pickle.load(file)"
   ]
  },
  {
   "cell_type": "code",
   "execution_count": 10,
   "metadata": {},
   "outputs": [
    {
     "data": {
      "text/plain": [
       "array([507699.81066719])"
      ]
     },
     "execution_count": 10,
     "metadata": {},
     "output_type": "execute_result"
    }
   ],
   "source": [
    "mp.predict([[5000]])"
   ]
  },
  {
   "cell_type": "markdown",
   "metadata": {},
   "source": [
    "# Save Using Joblib"
   ]
  },
  {
   "cell_type": "code",
   "execution_count": 11,
   "metadata": {},
   "outputs": [],
   "source": [
    "# if the model uses a lot of numpy arrays, Joblib is better\n",
    "from sklearn.externals import joblib"
   ]
  },
  {
   "cell_type": "code",
   "execution_count": 12,
   "metadata": {},
   "outputs": [
    {
     "name": "stderr",
     "output_type": "stream",
     "text": [
      "C:\\Users\\Hasan\\Anaconda3\\lib\\site-packages\\sklearn\\externals\\joblib\\numpy_pickle.py:93: DeprecationWarning: tostring() is deprecated. Use tobytes() instead.\n",
      "  pickler.file_handle.write(chunk.tostring('C'))\n",
      "C:\\Users\\Hasan\\Anaconda3\\lib\\site-packages\\sklearn\\externals\\joblib\\numpy_pickle.py:93: DeprecationWarning: tostring() is deprecated. Use tobytes() instead.\n",
      "  pickler.file_handle.write(chunk.tostring('C'))\n"
     ]
    },
    {
     "data": {
      "text/plain": [
       "['model_joblib']"
      ]
     },
     "execution_count": 12,
     "metadata": {},
     "output_type": "execute_result"
    }
   ],
   "source": [
    "joblib.dump(model, 'model_joblib')"
   ]
  },
  {
   "cell_type": "markdown",
   "metadata": {},
   "source": [
    "**Load Saved Model**"
   ]
  },
  {
   "cell_type": "code",
   "execution_count": 13,
   "metadata": {},
   "outputs": [],
   "source": [
    "mj = joblib.load('model_joblib')"
   ]
  },
  {
   "cell_type": "code",
   "execution_count": 14,
   "metadata": {},
   "outputs": [
    {
     "data": {
      "text/plain": [
       "array([507699.81066719])"
      ]
     },
     "execution_count": 14,
     "metadata": {},
     "output_type": "execute_result"
    }
   ],
   "source": [
    "mj.predict([[5000]])"
   ]
  }
 ],
 "metadata": {
  "kernelspec": {
   "display_name": "Python 3",
   "language": "python",
   "name": "python3"
  },
  "language_info": {
   "codemirror_mode": {
    "name": "ipython",
    "version": 3
   },
   "file_extension": ".py",
   "mimetype": "text/x-python",
   "name": "python",
   "nbconvert_exporter": "python",
   "pygments_lexer": "ipython3",
   "version": "3.6.5"
  }
 },
 "nbformat": 4,
 "nbformat_minor": 2
}
